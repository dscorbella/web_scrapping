{
 "cells": [
  {
   "cell_type": "code",
   "execution_count": 1,
   "id": "24d30ee3",
   "metadata": {
    "ExecuteTime": {
     "end_time": "2023-11-22T10:59:42.924108Z",
     "start_time": "2023-11-22T10:59:41.837791Z"
    }
   },
   "outputs": [],
   "source": [
    "import pandas as pd\n",
    "import requests\n",
    "from bs4 import BeautifulSoup\n",
    "\n",
    "url = 'https://www.bolsasymercados.es/bme-exchange/es/Mercados-y-Cotizaciones/Acciones/Mercado-Continuo/Precios/ibex-35-ES0SI0000005'\n",
    "resp = requests.get(url)\n",
    "soup = BeautifulSoup(resp.content, 'html.parser')\n",
    "data = soup.find(\"table\", {\"role\" : \"table\"}, {\"class\" : \"index-table\"})"
   ]
  },
  {
   "cell_type": "code",
   "execution_count": 2,
   "id": "e802ec4c",
   "metadata": {
    "ExecuteTime": {
     "end_time": "2023-11-22T10:59:42.940008Z",
     "start_time": "2023-11-22T10:59:42.926028Z"
    }
   },
   "outputs": [],
   "source": [
    "data"
   ]
  },
  {
   "cell_type": "code",
   "execution_count": 4,
   "id": "dafb7b30",
   "metadata": {
    "ExecuteTime": {
     "end_time": "2023-11-22T10:59:59.002722Z",
     "start_time": "2023-11-22T10:59:58.825727Z"
    }
   },
   "outputs": [
    {
     "name": "stdout",
     "output_type": "stream",
     "text": [
      "No se encontraron tablas en la página\n"
     ]
    }
   ],
   "source": [
    "url = 'https://www.bolsasymercados.es/bme-exchange/es/Mercados-y-Cotizaciones/Acciones/Mercado-Continuo/Precios/ibex-35-ES0SI00000055'\n",
    "resp = requests.get(url)\n",
    "soup = BeautifulSoup(resp.content, 'html.parser')\n",
    "tables = soup.find_all(\"table\")\n",
    "\n",
    "if len(tables) > 0:\n",
    "    for idx, table in enumerate(tables):\n",
    "        print(f\"Tabla {idx}:\")\n",
    "        print(table)\n",
    "        print(\"\\n\")\n",
    "else:\n",
    "    print(\"No se encontraron tablas en la página\")"
   ]
  },
  {
   "cell_type": "code",
   "execution_count": null,
   "id": "ec0d0604",
   "metadata": {},
   "outputs": [],
   "source": []
  },
  {
   "cell_type": "code",
   "execution_count": null,
   "id": "a3a132c0",
   "metadata": {},
   "outputs": [],
   "source": []
  }
 ],
 "metadata": {
  "hide_input": false,
  "kernelspec": {
   "display_name": "Python 3 (ipykernel)",
   "language": "python",
   "name": "python3"
  },
  "language_info": {
   "codemirror_mode": {
    "name": "ipython",
    "version": 3
   },
   "file_extension": ".py",
   "mimetype": "text/x-python",
   "name": "python",
   "nbconvert_exporter": "python",
   "pygments_lexer": "ipython3",
   "version": "3.9.16"
  },
  "nbTranslate": {
   "displayLangs": [
    "*"
   ],
   "hotkey": "alt-t",
   "langInMainMenu": true,
   "sourceLang": "en",
   "targetLang": "fr",
   "useGoogleTranslate": true
  },
  "toc": {
   "base_numbering": 1,
   "nav_menu": {},
   "number_sections": true,
   "sideBar": true,
   "skip_h1_title": false,
   "title_cell": "Table of Contents",
   "title_sidebar": "Contents",
   "toc_cell": false,
   "toc_position": {},
   "toc_section_display": true,
   "toc_window_display": false
  },
  "varInspector": {
   "cols": {
    "lenName": 16,
    "lenType": 16,
    "lenVar": 40
   },
   "kernels_config": {
    "python": {
     "delete_cmd_postfix": "",
     "delete_cmd_prefix": "del ",
     "library": "var_list.py",
     "varRefreshCmd": "print(var_dic_list())"
    },
    "r": {
     "delete_cmd_postfix": ") ",
     "delete_cmd_prefix": "rm(",
     "library": "var_list.r",
     "varRefreshCmd": "cat(var_dic_list()) "
    }
   },
   "types_to_exclude": [
    "module",
    "function",
    "builtin_function_or_method",
    "instance",
    "_Feature"
   ],
   "window_display": false
  }
 },
 "nbformat": 4,
 "nbformat_minor": 5
}
